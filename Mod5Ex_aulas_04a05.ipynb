{
  "metadata": {
    "kernelspec": {
      "name": "python",
      "display_name": "Python (Pyodide)",
      "language": "python"
    },
    "language_info": {
      "codemirror_mode": {
        "name": "python",
        "version": 3
      },
      "file_extension": ".py",
      "mimetype": "text/x-python",
      "name": "python",
      "nbconvert_exporter": "python",
      "pygments_lexer": "ipython3",
      "version": "3.8"
    }
  },
  "nbformat_minor": 4,
  "nbformat": 4,
  "cells": [
    {
      "cell_type": "markdown",
      "source": "# Tarefa 02 Módulo 05\n\nO nosso projeto desta sequência de módulos do curso será um aprofundamento da demonstração sobre classificação de risco de crédito que vimos lá no comecinho. Pois recebemos uma base já montada pra nós. Tenha certeza de que ela passou por um longo processamento até ficar daquele jeito. Neste exercício vamos exercitar o que aprendemos nas ultimas aulas e montar a variável resposta da base do nosso projeto.\n\n#### Marcação de bom e mau\nO objetivo da modelagem é classificar o risco de inadimplência, ou como se diz no meio, o risco de *default*. Podemos fazer longas discussões sobre o conceito de *default* com base em estudos e exigências regulatórias, para efeitos deste estudo, um cliente em *default* é aquele que está em 60 dias de atraso ou mais. Então classificaremos os clientes como 'bons' e 'maus' assim:\n- **Maus** pagadores: são aqueles que entraram em 'default' (atraso 60 dias ou mais) nos 24 meses seguintes à aquisição do cartão de crédito. \n- **Bons** pagadores: são considerados todos os demais.\n- **Excluídos**: Clientes que não adquiriram um cartão de crédito (seja por recusa, seja por desistência) não possuem informações de pagamento, portanto não se pode identificar se são bons ou maus. Há uma longa discussão e literatura sobre *inferência de rejeitados* que está fora do escopo deste exercício.\n\n#### Bases disponíveis\nTemos duas bases importantes aqui: uma de propostas, com diversas informações dos vários solicitantes de cartão de crédito, e uma base de pagamentos. A base de pagamentos será utilizada para identificar a ocorrência de *default*. A base de propostas tem diversas informações coletadas no momento da solicitação do crédito (isto é importante: qualquer informação posterior a essa data é impossível de ser coletada na aplicação do modelo e não pode ser utilizada).\n\nAs variáveis delas são:\n\nBase de propostas - application_records.csv\n\n| Nome da Variável         | Description                                         | Tipo  |\n| ------------------------ |:---------------------------------------------------:| -----:|\n| ID| identificador do cliente (chave) |inteiro|\n| CODE_GENDER| M = 'Masculino'; F = 'Feminino' |M/F|\n| FLAG_OWN_CAR| Y = 'possui'; N = 'não possui' |Y/N|\n| FLAG_OWN_REALTY| Y = 'possui'; N = 'não possui' |Y/N|\n| CNT_CHILDREN| Quantidade de filhos |inteiro|\n| AMT_INCOME_TOTAL| Annual income |inteiro|\n| NAME_INCOME_TYPE|Tipo de renda (ex: assaliariado, autônomo etc) | texto |\n| NAME_EDUCATION_TYPE| Nível de educação (ex: secundário, superior etc) |texto|\n| NAME_FAMILY_STATUS | Estado civil (ex: solteiro, casado etc)| texto |\n| NAME_HOUSING_TYPE | tipo de residência (ex: casa/apartamento, com os pais etc) | texto |\n| DAYS_BIRTH | Count backwards from current day (0), -1 means yesterday |inteiro|\n| DAYS_EMPLOYED | Count backwards from current day (0), -1 means yesterday |inteiro|\n| FLAG_MOBIL | Indica se possui celular (1 = sim, 0 = não) |binária|\n| FLAG_WORK_PHONE | Indica se possui telefone comercial (1 = sim, 0 = não) |binária|\n| FLAG_PHONE | Indica se possui telefone (1 = sim, 0 = não) |binária|\n| FLAG_EMAIL | Indica se possui e-mail (1 = sim, 0 = não) |binária|\n| OCCUPATION_TYPE | Occupation\t |Qualitativa|\n| CNT_FAM_MEMBERS | quantidade de pessoas na residência |inteiro|\n\nBase de pagamentos - pagamentos_largo.csv  \n\n| Nome da Variável         | Description                                         | Tipo  |\n| ------------------------ |:---------------------------------------------------:| -----:|\n| ID| identificador do cliente (chave) |inteiro|\n| mes_00 a mes_24| faixa de atraso mês a mês do cliente <br>0: 1-29 days past due &nbsp;&nbsp;&nbsp;&nbsp; 1: 30-59 days past due <br />2: 60-89 days overdue &nbsp;&nbsp;&nbsp;&nbsp; 3: 90-119 days overdue <br /> 4: 120-149 days overdue &nbsp;&nbsp;&nbsp;&nbsp; 5: more than 150 days <br />C: paid off that month &nbsp;&nbsp;&nbsp;&nbsp; X: No loan for the month |Qualitativa|\n\n#### Construindo a variável resposta\nA base de pagamentos está em um formato de 'base larga'. Essa base possui informações de pagamentos do cliente mês a mês a partir do mês de aquisição do crédito (mês 0) até o vigésimo quarto mês após a aquisição do crédito (mês 24). Utilizaremos essa base para determinar se um proponente é considerado 'bom pagador' ou caso apresente atraso representativo, será considerado 'mau pagador'.\n\n#### Base larga vs base longa\nA base ser larga significa que há uma linha para cada cliente, e que as informações estarão nas colunas, em contraste com a 'base longa', em que haveria uma linha para cada combinação cliente/mês, uma coluna indicando o cliente, outra indicando o mês, e apenas uma coluna com a informação do atraso.\n\n#### Tarefa 1) Marcar *default* no mês\nFaça uma indicadora de se o cliente está em *default* em cada uma das marcações (mes_00 a mes_24). Dica: você pode utilizar o método ```.isin()``` do Pandas. Consulte a [documentação](https://pandas.pydata.org/pandas-docs/stable/reference/api/pandas.DataFrame.isin.html) caso necessário.\n\n#### Tarefa 2) 'bons' e 'maus' ao longo de todos os 24 meses de desempenho\nMarque para cada cliente se ele teve pelo menos um episódio de *default* entre o mês 0 e o mês 24. Dica: o método ```sum()``` pode ajudar. Caso precise, consulte a [documentação](https://pandas.pydata.org/docs/reference/api/pandas.DataFrame.sum.html) e procure pelo argumento ```axis```, você viu outros métodos que possuem esse argumento também. Tendo o número de meses em default de cada cliente, basta marcar ```True``` para todos aqueles que possuem pelo menos 1 mês em *default* e ```False``` para os demais.\n\n#### Tarefa 3) Marcando proponentes expostos ao risco de crédito\nMarcando proponentes que se tornaram tomadores: lembre-se de que clientes que não adquiriram o cartão devem ser desconsiderados. A base de pagamentos possui apenas clientes que adquiriram cartão de crédito, então você pode selecionar somente os clientes da base de propostas que se encontram na base de pagamentos.\n\n#### Tarefa 4) Consolidando as informações\nFaça uma junção das informações da base de propostas com a variável de *default* que você acabou de construir. Talvez você consiga realizar a tarefa 3 e tarefa 4 em uma única linha de código ;)\n\n#### Tarefa 5) Verificando\nFaça uma contagem dos valores do *default* que você construiu. ",
      "metadata": {}
    },
    {
      "cell_type": "code",
      "source": "import pandas as pd",
      "metadata": {},
      "outputs": [],
      "execution_count": 1
    },
    {
      "cell_type": "code",
      "source": "propostas = pd.read_csv('application_record.csv')\npg = pd.read_csv('pagamentos_largo.csv')",
      "metadata": {},
      "outputs": [],
      "execution_count": 13
    },
    {
      "cell_type": "code",
      "source": "pg.head()",
      "metadata": {
        "scrolled": true
      },
      "outputs": [
        {
          "data": {
            "text/html": [
              "<div>\n",
              "<style scoped>\n",
              "    .dataframe tbody tr th:only-of-type {\n",
              "        vertical-align: middle;\n",
              "    }\n",
              "\n",
              "    .dataframe tbody tr th {\n",
              "        vertical-align: top;\n",
              "    }\n",
              "\n",
              "    .dataframe thead th {\n",
              "        text-align: right;\n",
              "    }\n",
              "</style>\n",
              "<table border=\"1\" class=\"dataframe\">\n",
              "  <thead>\n",
              "    <tr style=\"text-align: right;\">\n",
              "      <th></th>\n",
              "      <th>ID</th>\n",
              "      <th>mes_0</th>\n",
              "      <th>mes_1</th>\n",
              "      <th>mes_10</th>\n",
              "      <th>mes_11</th>\n",
              "      <th>mes_12</th>\n",
              "      <th>mes_13</th>\n",
              "      <th>mes_14</th>\n",
              "      <th>mes_15</th>\n",
              "      <th>mes_16</th>\n",
              "      <th>...</th>\n",
              "      <th>mes_22</th>\n",
              "      <th>mes_23</th>\n",
              "      <th>mes_24</th>\n",
              "      <th>mes_3</th>\n",
              "      <th>mes_4</th>\n",
              "      <th>mes_5</th>\n",
              "      <th>mes_6</th>\n",
              "      <th>mes_7</th>\n",
              "      <th>mes_8</th>\n",
              "      <th>mes_9</th>\n",
              "    </tr>\n",
              "  </thead>\n",
              "  <tbody>\n",
              "    <tr>\n",
              "      <th>0</th>\n",
              "      <td>5001718</td>\n",
              "      <td>0</td>\n",
              "      <td>0</td>\n",
              "      <td>0</td>\n",
              "      <td>0</td>\n",
              "      <td>0</td>\n",
              "      <td>0</td>\n",
              "      <td>0</td>\n",
              "      <td>0</td>\n",
              "      <td>NaN</td>\n",
              "      <td>...</td>\n",
              "      <td>NaN</td>\n",
              "      <td>0</td>\n",
              "      <td>NaN</td>\n",
              "      <td>0</td>\n",
              "      <td>0</td>\n",
              "      <td>0</td>\n",
              "      <td>0</td>\n",
              "      <td>NaN</td>\n",
              "      <td>0</td>\n",
              "      <td>NaN</td>\n",
              "    </tr>\n",
              "    <tr>\n",
              "      <th>1</th>\n",
              "      <td>5001719</td>\n",
              "      <td>0</td>\n",
              "      <td>0</td>\n",
              "      <td>C</td>\n",
              "      <td>C</td>\n",
              "      <td>C</td>\n",
              "      <td>C</td>\n",
              "      <td>C</td>\n",
              "      <td>C</td>\n",
              "      <td>C</td>\n",
              "      <td>...</td>\n",
              "      <td>C</td>\n",
              "      <td>C</td>\n",
              "      <td>C</td>\n",
              "      <td>C</td>\n",
              "      <td>C</td>\n",
              "      <td>C</td>\n",
              "      <td>C</td>\n",
              "      <td>C</td>\n",
              "      <td>C</td>\n",
              "      <td>C</td>\n",
              "    </tr>\n",
              "    <tr>\n",
              "      <th>2</th>\n",
              "      <td>5001720</td>\n",
              "      <td>0</td>\n",
              "      <td>0</td>\n",
              "      <td>0</td>\n",
              "      <td>0</td>\n",
              "      <td>0</td>\n",
              "      <td>0</td>\n",
              "      <td>0</td>\n",
              "      <td>0</td>\n",
              "      <td>0</td>\n",
              "      <td>...</td>\n",
              "      <td>1</td>\n",
              "      <td>0</td>\n",
              "      <td>0</td>\n",
              "      <td>0</td>\n",
              "      <td>0</td>\n",
              "      <td>0</td>\n",
              "      <td>0</td>\n",
              "      <td>0</td>\n",
              "      <td>0</td>\n",
              "      <td>0</td>\n",
              "    </tr>\n",
              "    <tr>\n",
              "      <th>3</th>\n",
              "      <td>5001723</td>\n",
              "      <td>0</td>\n",
              "      <td>0</td>\n",
              "      <td>NaN</td>\n",
              "      <td>NaN</td>\n",
              "      <td>NaN</td>\n",
              "      <td>NaN</td>\n",
              "      <td>NaN</td>\n",
              "      <td>NaN</td>\n",
              "      <td>NaN</td>\n",
              "      <td>...</td>\n",
              "      <td>NaN</td>\n",
              "      <td>NaN</td>\n",
              "      <td>NaN</td>\n",
              "      <td>0</td>\n",
              "      <td>0</td>\n",
              "      <td>0</td>\n",
              "      <td>0</td>\n",
              "      <td>0</td>\n",
              "      <td>NaN</td>\n",
              "      <td>NaN</td>\n",
              "    </tr>\n",
              "    <tr>\n",
              "      <th>4</th>\n",
              "      <td>5001726</td>\n",
              "      <td>0</td>\n",
              "      <td>0</td>\n",
              "      <td>C</td>\n",
              "      <td>C</td>\n",
              "      <td>C</td>\n",
              "      <td>C</td>\n",
              "      <td>C</td>\n",
              "      <td>C</td>\n",
              "      <td>C</td>\n",
              "      <td>...</td>\n",
              "      <td>C</td>\n",
              "      <td>C</td>\n",
              "      <td>C</td>\n",
              "      <td>0</td>\n",
              "      <td>0</td>\n",
              "      <td>0</td>\n",
              "      <td>C</td>\n",
              "      <td>C</td>\n",
              "      <td>C</td>\n",
              "      <td>C</td>\n",
              "    </tr>\n",
              "  </tbody>\n",
              "</table>\n",
              "<p>5 rows × 26 columns</p>\n",
              "</div>"
            ],
            "text/plain": [
              "        ID mes_0 mes_1 mes_10 mes_11 mes_12 mes_13 mes_14 mes_15 mes_16  ...  \\\n",
              "0  5001718     0     0      0      0      0      0      0      0    NaN  ...   \n",
              "1  5001719     0     0      C      C      C      C      C      C      C  ...   \n",
              "2  5001720     0     0      0      0      0      0      0      0      0  ...   \n",
              "3  5001723     0     0    NaN    NaN    NaN    NaN    NaN    NaN    NaN  ...   \n",
              "4  5001726     0     0      C      C      C      C      C      C      C  ...   \n",
              "\n",
              "  mes_22 mes_23 mes_24 mes_3 mes_4 mes_5 mes_6 mes_7 mes_8 mes_9  \n",
              "0    NaN      0    NaN     0     0     0     0   NaN     0   NaN  \n",
              "1      C      C      C     C     C     C     C     C     C     C  \n",
              "2      1      0      0     0     0     0     0     0     0     0  \n",
              "3    NaN    NaN    NaN     0     0     0     0     0   NaN   NaN  \n",
              "4      C      C      C     0     0     0     C     C     C     C  \n",
              "\n",
              "[5 rows x 26 columns]"
            ]
          },
          "execution_count": 4,
          "metadata": {},
          "output_type": "execute_result"
        }
      ],
      "execution_count": 4
    },
    {
      "cell_type": "code",
      "source": "# 1) # Lista de colunas de meses para iteração\nmeses_cols = [f'mes_{str(i).zfill(2)}' for i in range(25)]\n\n# Criar cópia para evitar SettingWithCopyWarning\npagamentos_modificado = pagamentos.copy()\n\n# Marcar default para cada mês\n# Supondo que 'C' e 'X' representam default (60+ dias de atraso)\nfor col in meses_cols:\n    pagamentos_modificado[f'default_{col}'] = pagamentos_modificado[col].isin(['C', 'X'])\n\n# Exibindo as primeiras linhas com as novas colunas de default\nprint(pagamentos_modificado.head())",
      "metadata": {},
      "outputs": [],
      "execution_count": 15
    },
    {
      "cell_type": "code",
      "source": "# 2) # Selecionar apenas as colunas de default que criamos\ndefault_meses_cols = [f'default_mes_{str(i).zfill(2)}' for i in range(25)]\n\n# Calcular o número total de meses em default para cada cliente\npagamentos_modificado['meses_em_default'] = pagamentos_modificado[default_meses_cols].sum(axis=1)\n\n# Criar a variável resposta 'default' (True para mau, False para bom)\npagamentos_modificado['default'] = (pagamentos_modificado['meses_em_default'] > 0)\n\n# Exibindo as primeiras linhas com a nova coluna 'default'\nprint(pagamentos_modificado[['ID', 'meses_em_default', 'default']].head())",
      "metadata": {},
      "outputs": [
        {
          "data": {
            "text/plain": [
              "False    20506\n",
              "True       431\n",
              "Name: default, dtype: int64"
            ]
          },
          "execution_count": 18,
          "metadata": {},
          "output_type": "execute_result"
        }
      ],
      "execution_count": 18
    },
    {
      "cell_type": "code",
      "source": "# 3) # Supondo que 'pagamentos_modificado' já foi criado e contém a coluna 'ID'\n# Obtendo os IDs únicos dos clientes que possuem histórico de pagamentos (ou seja, adquiriram o cartão)\nids_com_cartao = pagamentos_modificado['ID'].unique()\n\n# Filtrar a base application_record para incluir apenas os IDs que adquiriram o cartão\nproponentes_com_cartao = application_record[application_record['ID'].isin(ids_com_cartao)].copy()\n\nprint(\"Primeiras linhas da base de proponentes que adquiriram o cartão:\")\nprint(proponentes_com_cartao.head())\nprint(f\"\\nNúmero de proponentes que adquiriram o cartão: {len(proponentes_com_cartao)}\")",
      "metadata": {},
      "outputs": [
        {
          "data": {
            "text/plain": [
              "False    16260\n",
              "True       390\n",
              "Name: default, dtype: int64"
            ]
          },
          "execution_count": 21,
          "metadata": {},
          "output_type": "execute_result"
        }
      ],
      "execution_count": 21
    },
    {
      "cell_type": "code",
      "source": "# 4) # Selecionar apenas o ID e a variável 'default' da base de pagamentos modificada\n# (Isso foi feito no contexto da Tarefa 2, mas estamos repetindo para clareza da separação)\ndefault_por_cliente = pagamentos_modificado[['ID', 'default']]\n\n# Fazer a junção (merge) entre a base de proponentes filtrada e a variável default\n# Um inner merge aqui é redundante se 'proponentes_com_cartao' já foi filtrado\n# pelos IDs da base de pagamentos, mas garante consistência.\ndf_final = pd.merge(proponentes_com_cartao, default_por_cliente, on='ID', how='inner')\n\nprint(\"\\nPrimeiras linhas do DataFrame final com a variável 'default' consolidada:\")\nprint(df_final.head())\nprint(f\"\\nShape do DataFrame final: {df_final.shape}\")",
      "metadata": {},
      "outputs": [],
      "execution_count": null
    },
    {
      "cell_type": "code",
      "source": "# 5)  # Importar a biblioteca pandas\nimport pandas as pd\n\n# Carregar os arquivos\ntry:\n    application_record = pd.read_csv('application_record.csv')\n    pagamentos = pd.read_csv('pagamentos_largo.csv')\n    print(\"Arquivos 'application_record.csv' e 'pagamentos_largo.csv' carregados com sucesso!\")\nexcept FileNotFoundError:\n    print(\"Erro: Certifique-se de que 'application_record.csv' e 'pagamentos_largo.csv' estão no mesmo diretório.\")\n    # Se os arquivos não forem encontrados, não podemos continuar.\n    # Em um ambiente de produção, você pode levantar uma exceção ou lidar com isso de outra forma.\n    # Para este exemplo, vamos simplesmente parar a execução.\n    exit()\n\n# --- Tarefa 1) Marcar default no mês ---\n# A lista de colunas de meses deve corresponder ao formato do seu DataFrame\n# Com base na inspeção anterior, os nomes são mes_0, mes_1, ..., mes_24\nmeses_cols = [f'mes_{i}' for i in range(25)]\n\npagamentos_modificado = pagamentos.copy()\n\nfor col in meses_cols:\n    if col in pagamentos_modificado.columns:\n        # Assumindo que 'C' e 'X' representam default (60+ dias de atraso)\n        pagamentos_modificado[f'default_{col}'] = pagamentos_modificado[col].isin(['C', 'X'])\n    else:\n        print(f\"Aviso: Coluna '{col}' não encontrada em pagamentos_modificado. Verifique o formato dos nomes das colunas de meses.\")\n\n# --- Tarefa 2) 'bons' e 'maus' ao longo de todos os 24 meses de desempenho ---\n# Selecionar apenas as colunas de default_mes_XX que foram realmente criadas\ndefault_meses_cols = [col for col in pagamentos_modificado.columns if col.startswith('default_mes_')]\n\n# Calcular o número total de meses em default para cada cliente\npagamentos_modificado['meses_em_default'] = pagamentos_modificado[default_meses_cols].sum(axis=1)\n\n# Criar a variável resposta 'default' (True para mau, False para bom)\npagamentos_modificado['default'] = (pagamentos_modificado['meses_em_default'] > 0)\n\n# --- Tarefa 3) Marcando proponentes expostos ao risco de crédito ---\n# Obtendo os IDs únicos dos clientes que possuem histórico de pagamentos (adquiriram o cartão)\nids_com_cartao = pagamentos_modificado['ID'].unique()\n\n# Filtrar a base application_record para incluir apenas os IDs que adquiriram o cartão\nproponentes_com_cartao = application_record[application_record['ID'].isin(ids_com_cartao)].copy()\n\n# --- Tarefa 4) Consolidando as informações ---\n# Selecionar apenas o ID e a variável 'default' da base de pagamentos modificada\ndefault_por_cliente = pagamentos_modificado[['ID', 'default']]\n\n# Fazer a junção (merge) entre a base de proponentes filtrada e a variável default\ndf_final = pd.merge(proponentes_com_cartao, default_por_cliente, on='ID', how='inner')\n\n# --- Tarefa 5) Verificando ---\n# Contagem dos valores da variável 'default'\ncontagem_default = df_final['default'].value_counts()\n\nprint(\"\\n--- Resultados da Tarefa 5 ---\")\nprint(\"\\nContagem da variável 'default':\")\nprint(contagem_default)\n\n# Também podemos verificar a proporção\nprint(\"\\nProporção da variável 'default':\")\nprint((df_final['default'].value_counts(normalize=True) * 100).round(2))",
      "metadata": {
        "trusted": true
      },
      "outputs": [
        {
          "name": "stdout",
          "output_type": "stream",
          "text": "Arquivos 'application_record.csv' e 'pagamentos_largo.csv' carregados com sucesso!\n\n--- Resultados da Tarefa 5 ---\n\nContagem da variável 'default':\ndefault\nTrue     10742\nFalse     5908\nName: count, dtype: int64\n\nProporção da variável 'default':\ndefault\nTrue     64.52\nFalse    35.48\nName: proportion, dtype: float64\n"
        }
      ],
      "execution_count": 3
    },
    {
      "cell_type": "code",
      "source": "",
      "metadata": {
        "trusted": true
      },
      "outputs": [],
      "execution_count": null
    }
  ]
}